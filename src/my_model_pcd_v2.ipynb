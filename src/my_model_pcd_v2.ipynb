{
 "cells": [
  {
   "attachments": {},
   "cell_type": "markdown",
   "metadata": {},
   "source": [
    "◼ **Classificação das doenças nas plantas V2**"
   ]
  },
  {
   "attachments": {},
   "cell_type": "markdown",
   "metadata": {},
   "source": [
    "◼ **Importando módulos**"
   ]
  },
  {
   "cell_type": "code",
   "execution_count": 2,
   "metadata": {},
   "outputs": [],
   "source": [
    "import os\n",
    "import matplotlib.pyplot as plt\n",
    "import matplotlib.image as mpimg\n",
    "import numpy as np\n",
    "import tensorflow as tf\n",
    "from tensorflow import keras\n",
    "from keras.preprocessing.image import ImageDataGenerator\n",
    "from keras.optimizers import Adam\n",
    "from keras.metrics import Precision, Recall\n",
    "from zipfile import ZipFile\n",
    "import splitfolders"
   ]
  },
  {
   "attachments": {},
   "cell_type": "markdown",
   "metadata": {},
   "source": [
    "◼ **Caminho das imagens**"
   ]
  },
  {
   "cell_type": "code",
   "execution_count": 3,
   "metadata": {},
   "outputs": [],
   "source": [
    "root_path= os.path.join(\"data/newplantsvillage.zip\")"
   ]
  },
  {
   "attachments": {},
   "cell_type": "markdown",
   "metadata": {},
   "source": [
    "◼ **Extrair as imagens do arquivo .zip**"
   ]
  },
  {
   "cell_type": "code",
   "execution_count": 4,
   "metadata": {},
   "outputs": [
    {
     "name": "stdout",
     "output_type": "stream",
     "text": [
      "Done\n"
     ]
    }
   ],
   "source": [
    "with ZipFile(root_path, 'r') as zipObj:\n",
    "  zipObj.extractall()\n",
    "  print('Done')"
   ]
  },
  {
   "attachments": {},
   "cell_type": "markdown",
   "metadata": {},
   "source": [
    "◼ **Criar uma lista das classes**"
   ]
  },
  {
   "cell_type": "code",
   "execution_count": 5,
   "metadata": {},
   "outputs": [],
   "source": [
    "classes_train = sorted(list(filter(lambda x: os.path.isdir('newplantsvillage/' + x), os.listdir('newplantsvillage'))))\n"
   ]
  },
  {
   "attachments": {},
   "cell_type": "markdown",
   "metadata": {},
   "source": [
    "◼ **Exibir os nomes de todas as classes**"
   ]
  },
  {
   "cell_type": "code",
   "execution_count": 6,
   "metadata": {},
   "outputs": [
    {
     "name": "stdout",
     "output_type": "stream",
     "text": [
      "['Apple___Apple_scab', 'Apple___Black_rot', 'Apple___Cedar_apple_rust', 'Apple___healthy', 'Blueberry___healthy', 'Cherry_(including_sour)___Powdery_mildew', 'Cherry_(including_sour)___healthy', 'Corn_(maize)___Cercospora_leaf_spot Gray_leaf_spot', 'Corn_(maize)___Common_rust_', 'Corn_(maize)___Northern_Leaf_Blight', 'Corn_(maize)___healthy', 'Grape___Black_rot', 'Grape___Esca_(Black_Measles)', 'Grape___Leaf_blight_(Isariopsis_Leaf_Spot)', 'Grape___healthy', 'Orange___Haunglongbing_(Citrus_greening)', 'Peach___Bacterial_spot', 'Peach___healthy', 'Pepper,_bell___Bacterial_spot', 'Pepper,_bell___healthy', 'Potato___Early_blight', 'Potato___Late_blight', 'Potato___healthy', 'Raspberry___healthy', 'Soybean___healthy', 'Squash___Powdery_mildew', 'Strawberry___Leaf_scorch', 'Strawberry___healthy', 'Tomato___Bacterial_spot', 'Tomato___Early_blight', 'Tomato___Late_blight', 'Tomato___Leaf_Mold', 'Tomato___Septoria_leaf_spot', 'Tomato___Spider_mites Two-spotted_spider_mite', 'Tomato___Target_Spot', 'Tomato___Tomato_Yellow_Leaf_Curl_Virus', 'Tomato___Tomato_mosaic_virus', 'Tomato___healthy']\n"
     ]
    }
   ],
   "source": [
    "print(classes_train)"
   ]
  },
  {
   "attachments": {},
   "cell_type": "markdown",
   "metadata": {},
   "source": [
    "◼ **Parâmetros de funções callback**"
   ]
  },
  {
   "cell_type": "code",
   "execution_count": 9,
   "metadata": {},
   "outputs": [],
   "source": [
    "batch_size = 32\n",
    "learning_rate = 0.001\n",
    "epochs = 12"
   ]
  },
  {
   "attachments": {},
   "cell_type": "markdown",
   "metadata": {},
   "source": [
    "◼ **Dividir as classes em treino e validação**"
   ]
  },
  {
   "cell_type": "code",
   "execution_count": 15,
   "metadata": {},
   "outputs": [],
   "source": [
    "input_folder='newplantsvillage'\n",
    "splitfolders.ratio(input_folder, output=\"output_newplantsvillage\", seed=1337, ratio=(.8,.2))"
   ]
  },
  {
   "attachments": {},
   "cell_type": "markdown",
   "metadata": {},
   "source": [
    "◼ **Gerar novas Imagens**\n",
    "\n",
    "- ImageDataGenerator é uma classe da biblioteca Keras do TensorFlow que permite gerar automaticamente novas imagens com base em um conjunto de imagens existentes.\n",
    "\n",
    "train_datagen:\n",
    "- Cria um objeto redimensionando os valores dos pixels das imagens para o intervalo entre 0 e 1\n",
    "\n",
    "train_generator:\n",
    "- Dados de treinamento\n",
    "\n",
    "val_generator:\n",
    "- Dados de validação\n",
    "\n",
    "**Importante**\n",
    "- Esses geradores de dados são utilizados para fornecer lotes de imagens e seus rótulos associados durante o treinamento e a validação do modelo de rede neural. O uso de geradores é útil para lidar com conjuntos de dados grandes, pois permite carregar e processar os dados em lotes, economizando memória e facilitando o treinamento em lotes da rede neural."
   ]
  },
  {
   "cell_type": "code",
   "execution_count": 16,
   "metadata": {},
   "outputs": [
    {
     "name": "stdout",
     "output_type": "stream",
     "text": [
      "Found 43429 images belonging to 38 classes.\n",
      "Found 10876 images belonging to 38 classes.\n"
     ]
    }
   ],
   "source": [
    "train_datagen=ImageDataGenerator(rescale=1/255)\n",
    "train_generator=train_datagen.flow_from_directory(\n",
    "    'output_newplantsvillage/train',\n",
    "    target_size=(200, 200),\n",
    "    batch_size=batch_size,\n",
    "    classes = classes_train,\n",
    "    class_mode='categorical'\n",
    ")\n",
    "val_datagen=ImageDataGenerator(rescale=1/255)\n",
    "val_generator=val_datagen.flow_from_directory(\n",
    "    'output_newplantsvillage/val',\n",
    "    target_size=(200, 200),\n",
    "    batch_size=batch_size,\n",
    "    classes = classes_train,\n",
    "    class_mode='categorical'\n",
    ")"
   ]
  },
  {
   "attachments": {},
   "cell_type": "markdown",
   "metadata": {},
   "source": [
    "◼ **Transfer learning**\n",
    "\n",
    "Cria um modelo DenseNet121 com pesos pré-treinados do ImageNet e configura todas as camadas como treináveis para que possam ser ajustadas durante o treinamento com os dados específicos do problema. Importante: include_top=False: Indica que a camada de classificação final (top layer) do DenseNet121 não será incluída no modelo. Isso é útil quando queremos substituir a camada de classificação original por uma nova camada personalizada."
   ]
  },
  {
   "cell_type": "code",
   "execution_count": 17,
   "metadata": {},
   "outputs": [],
   "source": [
    "d = tf.keras.applications.DenseNet121(include_top=False,\n",
    "                   input_shape=(100,100,3),\n",
    "                   pooling=None,\n",
    "                   weights='imagenet')\n",
    "for i in d.layers[:149]:\n",
    "  i.trainable = False\n",
    "\n",
    "for i in d.layers[149:]:\n",
    "  i.trainable = True"
   ]
  },
  {
   "attachments": {},
   "cell_type": "markdown",
   "metadata": {},
   "source": [
    "##### Novo modelo é construído adicionando camadas personalizadas ao modelo DenseNet121 existente.\n",
    "\n",
    "#### Passo a passo:\n",
    "\n",
    "- Uma camada de pooling global médio é adicionada ao final do modelo DenseNet121 para reduzir a dimensionalidade do tensor de saída para calcular a média de cada canal ao longo de todas as posições espaciais da saída.\n",
    "- Uma camada de pooling global máximo é adicionada ao final do modelo DenseNet121 para calcular o valor máximo de cada canal ao longo de todas as posições espaciais da saída.\n",
    "- Mais uma camada que calcula o valor mínimo elemento a elemento entre os tensores de saída do pooling médio global e do pooling máximo global. Isso ajuda a capturar informações diferentes e complementares dos dois tipos de pooling.\n",
    "- Uma camada de dropout é adicionada para ajudar a reduzir o overfitting, desligando aleatoriamente 50% dos neurônios de entrada durante o treinamento.\n",
    "- Uma camada densa com 128 neurônios é adicionada, seguida pela função de ativação sigmoid.\n",
    "- Mais um dropout é adicionado com uma taxa de 30%.\n",
    "- A camada de saída final é uma camada densa com 4 neurônios (correspondendo aos 4 rótulos possíveis) usando a função de ativação softmax para obter probabilidades de classe.\n",
    "- O modelo é compilado com o otimizador Adam, função de perda de entropia cruzada e as métricas de avaliação usadas são de precisão e recall."
   ]
  },
  {
   "cell_type": "code",
   "execution_count": 24,
   "metadata": {},
   "outputs": [],
   "source": [
    "output_avg = tf.keras.layers.GlobalAveragePooling2D()(d.output)\n",
    "output_max = tf.keras.layers.GlobalMaxPooling2D()(d.output)\n",
    "m = tf.keras.layers.minimum([output_avg, output_max])\n",
    "m = tf.keras.layers.Dropout(0.5)(m)\n",
    "m = tf.keras.layers.Dense(128, activation = \"sigmoid\")(m)\n",
    "m = tf.keras.layers.Dropout(0.3)(m)\n",
    "m = tf.keras.layers.Dense(256, activation = \"relu\")(m)\n",
    "m = tf.keras.layers.Dropout(0.3)(m)\n",
    "m = tf.keras.layers.Dense(512, activation = \"relu\")(m)\n",
    "m = tf.keras.layers.Dropout(0.3)(m)\n",
    "m = tf.keras.layers.Dense(38, activation= \"softmax\")(m)\n",
    "m = tf.keras.models.Model(inputs = d.input, outputs = m)"
   ]
  },
  {
   "attachments": {},
   "cell_type": "markdown",
   "metadata": {},
   "source": [
    "◼ **Compilação do modelo neural**"
   ]
  },
  {
   "cell_type": "code",
   "execution_count": 25,
   "metadata": {},
   "outputs": [],
   "source": [
    "m.compile(optimizer = tf.keras.optimizers.Adam(0.001), \n",
    "          loss = \"categorical_crossentropy\", \n",
    "          metrics =[\"accuracy\", \n",
    "                     Precision(name='precision'), \n",
    "                     Recall(name='recall')])"
   ]
  },
  {
   "attachments": {},
   "cell_type": "markdown",
   "metadata": {},
   "source": [
    "**Determinar o número de etapas a serem executadas durante o treinamento e validação do modelo**\n",
    "\n",
    "steps_per_epoch:\n",
    "\n",
    "- train_generator.n = Número total de amostras no conjunto de treinamento.\n",
    "- train_generator.batch_size = Tamanho do lote (batch size) usado durante o treinamento.\n",
    "\n",
    "A divisão train_generator.n // train_generator.batch_size calcula o número de lotes (batches) completos que podem ser formados a partir do conjunto de treinamento. Isso define o número de etapas (steps) a serem executadas durante cada época (epoch) de treinamento. Cada etapa envolve a passagem de um lote (batch) de dados pelo modelo para atualização dos pesos.\n",
    "\n",
    "\n",
    "validation_steps:\n",
    "- val_generator.n: Número total de amostras no conjunto de validação.\n",
    "- val_generator.batch_size: Tamanho do lote (batch size) usado durante a validação.\n",
    "\n",
    "\n",
    "A divisão val_generator.n // val_generator.batch_size calcula o número de lotes (batches) completos que podem ser formados a partir do conjunto de validação. Isso define o número de etapas (steps) a serem executadas durante a validação."
   ]
  },
  {
   "cell_type": "code",
   "execution_count": 26,
   "metadata": {},
   "outputs": [],
   "source": [
    "steps_per_epoch=train_generator.n//train_generator.batch_size\n",
    "validation_steps=val_generator.n//val_generator.batch_size"
   ]
  },
  {
   "attachments": {},
   "cell_type": "markdown",
   "metadata": {},
   "source": [
    "◼ **Funções callbacks**\n",
    "- EarlyStopping\n",
    "- ModelCheckpoint\n",
    "- ReduceLROnPlateau"
   ]
  },
  {
   "cell_type": "code",
   "execution_count": 22,
   "metadata": {},
   "outputs": [],
   "source": [
    "checkpoint = keras.callbacks.ModelCheckpoint(\n",
    "    \"save_points/pcd_v2.h5\",\n",
    "    monitor='val_loss',\n",
    "    verbose=1,\n",
    "    save_best_only=True,\n",
    "    save_weights_only=False,\n",
    "    mode='auto'\n",
    ")\n",
    "\n",
    "reducelr =  keras.callbacks.ReduceLROnPlateau(\n",
    "    monitor='loss',\n",
    "    factor=0.2, mode='min',\n",
    "    patience=2\n",
    ")\n",
    "\n",
    "earlystopping = keras.callbacks.EarlyStopping(\n",
    "    monitor='accuracy',\n",
    "    patience=3,\n",
    "    min_delta=0.001,\n",
    "    mode='max',\n",
    "    restore_best_weights=True\n",
    ")"
   ]
  },
  {
   "attachments": {},
   "cell_type": "markdown",
   "metadata": {},
   "source": [
    "◼ **Treinar o modelo**\n",
    "\n",
    "**Importante**\n",
    "\n",
    "Uma lista de objetos de callback podem ser são usados durante o treinamento para realizar ações específicas:\n",
    "- (ReduceLROnPlateau) - Ajustar a taxa de aprendizado\n",
    "- (EarlyStopping) - Parar o treinamento antecipadamente se a perda não estiver melhorando (EarlyStopping)\n",
    "- (ModelCheckpoint) - Salvar o modelo (em um arquivo de ponto de verificação) em algum intervalo, para que o modelo possa ser carregado posteriormente para continuar o treinamento do estado salvo."
   ]
  },
  {
   "cell_type": "code",
   "execution_count": 27,
   "metadata": {},
   "outputs": [
    {
     "name": "stdout",
     "output_type": "stream",
     "text": [
      "Epoch 1/12\n",
      "1357/1357 [==============================] - ETA: 0s - loss: 0.6712 - accuracy: 0.8004 - precision: 0.9021 - recall: 0.7400\n",
      "Epoch 1: val_loss improved from inf to 0.14426, saving model to save_points\\pcd_v2.h5\n",
      "1357/1357 [==============================] - 3961s 3s/step - loss: 0.6712 - accuracy: 0.8004 - precision: 0.9021 - recall: 0.7400 - val_loss: 0.1443 - val_accuracy: 0.9562 - val_precision: 0.9616 - val_recall: 0.9509 - lr: 0.0010\n",
      "Epoch 2/12\n",
      "1357/1357 [==============================] - ETA: 0s - loss: 0.2124 - accuracy: 0.9358 - precision: 0.9490 - recall: 0.9243\n",
      "Epoch 2: val_loss improved from 0.14426 to 0.11360, saving model to save_points\\pcd_v2.h5\n",
      "1357/1357 [==============================] - 4123s 3s/step - loss: 0.2124 - accuracy: 0.9358 - precision: 0.9490 - recall: 0.9243 - val_loss: 0.1136 - val_accuracy: 0.9690 - val_precision: 0.9733 - val_recall: 0.9651 - lr: 0.0010\n",
      "Epoch 3/12\n",
      "1357/1357 [==============================] - ETA: 0s - loss: 0.1540 - accuracy: 0.9547 - precision: 0.9633 - recall: 0.9478\n",
      "Epoch 3: val_loss improved from 0.11360 to 0.07575, saving model to save_points\\pcd_v2.h5\n",
      "1357/1357 [==============================] - 4110s 3s/step - loss: 0.1540 - accuracy: 0.9547 - precision: 0.9633 - recall: 0.9478 - val_loss: 0.0758 - val_accuracy: 0.9778 - val_precision: 0.9804 - val_recall: 0.9759 - lr: 0.0010\n",
      "Epoch 4/12\n",
      "1357/1357 [==============================] - ETA: 0s - loss: 0.1296 - accuracy: 0.9637 - precision: 0.9700 - recall: 0.9575\n",
      "Epoch 4: val_loss did not improve from 0.07575\n",
      "1357/1357 [==============================] - 4099s 3s/step - loss: 0.1296 - accuracy: 0.9637 - precision: 0.9700 - recall: 0.9575 - val_loss: 0.0788 - val_accuracy: 0.9771 - val_precision: 0.9798 - val_recall: 0.9754 - lr: 0.0010\n",
      "Epoch 5/12\n",
      "1357/1357 [==============================] - ETA: 0s - loss: 0.1098 - accuracy: 0.9679 - precision: 0.9734 - recall: 0.9631\n",
      "Epoch 5: val_loss did not improve from 0.07575\n",
      "1357/1357 [==============================] - 4107s 3s/step - loss: 0.1098 - accuracy: 0.9679 - precision: 0.9734 - recall: 0.9631 - val_loss: 0.0835 - val_accuracy: 0.9772 - val_precision: 0.9808 - val_recall: 0.9743 - lr: 0.0010\n",
      "Epoch 6/12\n",
      "1357/1357 [==============================] - ETA: 0s - loss: 0.0971 - accuracy: 0.9737 - precision: 0.9783 - recall: 0.9692\n",
      "Epoch 6: val_loss improved from 0.07575 to 0.03974, saving model to save_points\\pcd_v2.h5\n",
      "1357/1357 [==============================] - 4031s 3s/step - loss: 0.0971 - accuracy: 0.9737 - precision: 0.9783 - recall: 0.9692 - val_loss: 0.0397 - val_accuracy: 0.9883 - val_precision: 0.9897 - val_recall: 0.9877 - lr: 0.0010\n",
      "Epoch 7/12\n",
      "1357/1357 [==============================] - ETA: 0s - loss: 0.0909 - accuracy: 0.9756 - precision: 0.9797 - recall: 0.9721\n",
      "Epoch 7: val_loss did not improve from 0.03974\n",
      "1357/1357 [==============================] - 3973s 3s/step - loss: 0.0909 - accuracy: 0.9756 - precision: 0.9797 - recall: 0.9721 - val_loss: 0.0663 - val_accuracy: 0.9819 - val_precision: 0.9834 - val_recall: 0.9800 - lr: 0.0010\n",
      "Epoch 8/12\n",
      "1357/1357 [==============================] - ETA: 0s - loss: 0.0842 - accuracy: 0.9766 - precision: 0.9806 - recall: 0.9737\n",
      "Epoch 8: val_loss improved from 0.03974 to 0.03509, saving model to save_points\\pcd_v2.h5\n",
      "1357/1357 [==============================] - 3467s 3s/step - loss: 0.0842 - accuracy: 0.9766 - precision: 0.9806 - recall: 0.9737 - val_loss: 0.0351 - val_accuracy: 0.9906 - val_precision: 0.9915 - val_recall: 0.9900 - lr: 0.0010\n",
      "Epoch 9/12\n",
      "1357/1357 [==============================] - ETA: 0s - loss: 0.0740 - accuracy: 0.9798 - precision: 0.9829 - recall: 0.9767\n",
      "Epoch 9: val_loss did not improve from 0.03509\n",
      "1357/1357 [==============================] - 3476s 3s/step - loss: 0.0740 - accuracy: 0.9798 - precision: 0.9829 - recall: 0.9767 - val_loss: 0.0658 - val_accuracy: 0.9855 - val_precision: 0.9862 - val_recall: 0.9847 - lr: 0.0010\n",
      "Epoch 10/12\n",
      "1357/1357 [==============================] - ETA: 0s - loss: 0.0689 - accuracy: 0.9823 - precision: 0.9849 - recall: 0.9799\n",
      "Epoch 10: val_loss did not improve from 0.03509\n",
      "1357/1357 [==============================] - 3509s 3s/step - loss: 0.0689 - accuracy: 0.9823 - precision: 0.9849 - recall: 0.9799 - val_loss: 0.0488 - val_accuracy: 0.9888 - val_precision: 0.9891 - val_recall: 0.9878 - lr: 0.0010\n",
      "Epoch 11/12\n",
      "1357/1357 [==============================] - ETA: 0s - loss: 0.0716 - accuracy: 0.9812 - precision: 0.9842 - recall: 0.9782\n",
      "Epoch 11: val_loss did not improve from 0.03509\n",
      "1357/1357 [==============================] - 3440s 3s/step - loss: 0.0716 - accuracy: 0.9812 - precision: 0.9842 - recall: 0.9782 - val_loss: 0.0489 - val_accuracy: 0.9869 - val_precision: 0.9873 - val_recall: 0.9862 - lr: 0.0010\n",
      "Epoch 12/12\n",
      "1357/1357 [==============================] - ETA: 0s - loss: 0.0592 - accuracy: 0.9845 - precision: 0.9865 - recall: 0.9824\n",
      "Epoch 12: val_loss did not improve from 0.03509\n",
      "1357/1357 [==============================] - 3510s 3s/step - loss: 0.0592 - accuracy: 0.9845 - precision: 0.9865 - recall: 0.9824 - val_loss: 0.0591 - val_accuracy: 0.9854 - val_precision: 0.9873 - val_recall: 0.9843 - lr: 0.0010\n"
     ]
    }
   ],
   "source": [
    "history = m.fit(\n",
    "    x=train_generator,\n",
    "    y=None,\n",
    "    steps_per_epoch=steps_per_epoch,\n",
    "    epochs=epochs,\n",
    "    validation_data=val_generator,\n",
    "    validation_steps=validation_steps,\n",
    "    callbacks=[\n",
    "        earlystopping,\n",
    "        checkpoint,\n",
    "        reducelr\n",
    "    ]\n",
    ")"
   ]
  },
  {
   "attachments": {},
   "cell_type": "markdown",
   "metadata": {},
   "source": [
    "◼ **Exibibir a performance do modelo**"
   ]
  },
  {
   "cell_type": "code",
   "execution_count": 28,
   "metadata": {},
   "outputs": [
    {
     "data": {
      "image/png": "[encoded data removed]",
      "text/plain": [
       "<Figure size 1000x500 with 2 Axes>"
      ]
     },
     "metadata": {},
     "output_type": "display_data"
    }
   ],
   "source": [
    "# Obtenha as métricas de treinamento do histórico\n",
    "train_loss = history.history['loss']\n",
    "train_acc = history.history['accuracy']\n",
    "\n",
    "# Obtenha as métricas de validação do histórico\n",
    "val_loss = history.history['val_loss']\n",
    "val_acc = history.history['val_accuracy']\n",
    "\n",
    "# Crie o gráfico\n",
    "plt.figure(figsize=(10, 5))\n",
    "plt.subplot(1, 2, 1)\n",
    "plt.plot(train_loss, label='Train Loss')\n",
    "plt.plot(val_loss, label='Validation Loss')\n",
    "plt.xlabel('Epochs')\n",
    "plt.ylabel('Loss')\n",
    "plt.legend()\n",
    "\n",
    "plt.subplot(1, 2, 2)\n",
    "plt.plot(train_acc, label='Train Accuracy')\n",
    "plt.plot(val_acc, label='Validation Accuracy')\n",
    "plt.xlabel('Epochs')\n",
    "plt.ylabel('Accuracy')\n",
    "plt.legend()\n",
    "\n",
    "best_epoch = np.argmin(val_loss) + 1\n",
    "best_val_loss = val_loss[best_epoch - 1]\n",
    "best_val_acc = val_acc[best_epoch - 1]\n",
    "\n",
    "# Destaque a melhor época no gráfico\n",
    "plt.subplot(1, 2, 1)\n",
    "plt.axvline(x=best_epoch, color='r', linestyle='--', label='Best Epoch')\n",
    "plt.text(best_epoch, best_val_loss, f'Best Loss: {best_val_loss:.4f}', color='r')\n",
    "\n",
    "plt.subplot(1, 2, 2)\n",
    "plt.axvline(x=best_epoch, color='r', linestyle='--', label='Best Epoch')\n",
    "plt.text(best_epoch, best_val_acc, f'Best Acc: {best_val_acc:.4f}', color='r')\n",
    "\n",
    "plt.tight_layout()\n",
    "plt.show()"
   ]
  },
  {
   "attachments": {},
   "cell_type": "markdown",
   "metadata": {},
   "source": [
    "◼ **Avaliação do desempenho**\n",
    "\n",
    "- O método evaluate() é usado para avaliar o desempenho de um modelo de rede neural em um conjunto de dados de teste."
   ]
  },
  {
   "cell_type": "code",
   "execution_count": 33,
   "metadata": {},
   "outputs": [
    {
     "name": "stdout",
     "output_type": "stream",
     "text": [
      "340/340 [==============================] - 1060s 3s/step - loss: 0.0350 - accuracy: 0.9906 - precision: 0.9915 - recall: 0.9901\n"
     ]
    },
    {
     "data": {
      "text/plain": [
       "[0.03499763831496239,\n",
       " 0.9906215667724609,\n",
       " 0.9915285706520081,\n",
       " 0.9900698661804199]"
      ]
     },
     "execution_count": 33,
     "metadata": {},
     "output_type": "execute_result"
    }
   ],
   "source": [
    "model = tf.keras.models.load_model('save_points/pcd_v2.h5')\n",
    "model.evaluate(val_generator)"
   ]
  },
  {
   "attachments": {},
   "cell_type": "markdown",
   "metadata": {},
   "source": [
    "◼ **Salvar o modelo**"
   ]
  },
  {
   "cell_type": "code",
   "execution_count": 29,
   "metadata": {},
   "outputs": [],
   "source": [
    "keras.models.save_model(m, \"model_v2.h5\")"
   ]
  },
  {
   "attachments": {},
   "cell_type": "markdown",
   "metadata": {},
   "source": [
    "◼ **Converter modelo para formato do TensorFlow Lite**"
   ]
  },
  {
   "cell_type": "code",
   "execution_count": 34,
   "metadata": {},
   "outputs": [
    {
     "name": "stderr",
     "output_type": "stream",
     "text": [
      "WARNING:absl:Found untraced functions such as _jit_compiled_convolution_op, _jit_compiled_convolution_op, _jit_compiled_convolution_op, _jit_compiled_convolution_op, _jit_compiled_convolution_op while saving (showing 5 of 121). These functions will not be directly callable after loading.\n"
     ]
    },
    {
     "name": "stdout",
     "output_type": "stream",
     "text": [
      "INFO:tensorflow:Assets written to: C:\\Users\\rodri\\AppData\\Local\\Temp\\tmpgttvw6yw\\assets\n"
     ]
    },
    {
     "name": "stderr",
     "output_type": "stream",
     "text": [
      "INFO:tensorflow:Assets written to: C:\\Users\\rodri\\AppData\\Local\\Temp\\tmpgttvw6yw\\assets\n",
      "WARNING:absl:Found untraced functions such as _jit_compiled_convolution_op, _jit_compiled_convolution_op, _jit_compiled_convolution_op, _jit_compiled_convolution_op, _jit_compiled_convolution_op while saving (showing 5 of 121). These functions will not be directly callable after loading.\n"
     ]
    },
    {
     "name": "stdout",
     "output_type": "stream",
     "text": [
      "INFO:tensorflow:Assets written to: C:\\Users\\rodri\\AppData\\Local\\Temp\\tmphk1tjusr\\assets\n"
     ]
    },
    {
     "name": "stderr",
     "output_type": "stream",
     "text": [
      "INFO:tensorflow:Assets written to: C:\\Users\\rodri\\AppData\\Local\\Temp\\tmphk1tjusr\\assets\n"
     ]
    },
    {
     "data": {
      "text/plain": [
       "7725040"
      ]
     },
     "execution_count": 34,
     "metadata": {},
     "output_type": "execute_result"
    }
   ],
   "source": [
    "## For TFLite model\n",
    "converter=tf.lite.TFLiteConverter.from_keras_model(model)\n",
    "tflite_model=converter.convert()\n",
    "open('models/model_v2.tflite', 'wb').write(tflite_model)\n",
    "## For TFLite optimized model\n",
    "converter.optimizations=[tf.lite.Optimize.DEFAULT]\n",
    "tflite_opt_model=converter.convert()\n",
    "open('models/model_opt_v2.tflite', 'wb').write(tflite_opt_model)"
   ]
  }
 ],
 "metadata": {
  "kernelspec": {
   "display_name": "p-c-d",
   "language": "python",
   "name": "python3"
  },
  "language_info": {
   "codemirror_mode": {
    "name": "ipython",
    "version": 3
   },
   "file_extension": ".py",
   "mimetype": "text/x-python",
   "name": "python",
   "nbconvert_exporter": "python",
   "pygments_lexer": "ipython3",
   "version": "3.10.11"
  },
  "orig_nbformat": 4
 },
 "nbformat": 4,
 "nbformat_minor": 2
}
